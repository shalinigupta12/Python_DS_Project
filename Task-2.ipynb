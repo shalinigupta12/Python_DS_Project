{
 "cells": [
  {
   "cell_type": "code",
   "execution_count": 1,
   "id": "ce6117a3-61ff-4500-a4a2-17be50ffe41e",
   "metadata": {},
   "outputs": [
    {
     "name": "stdout",
     "output_type": "stream",
     "text": [
      "  Name  Age\n",
      "0  pom   25\n",
      "1  tom   30\n",
      "2  som   22\n"
     ]
    }
   ],
   "source": [
    "import pandas as pd\n",
    "\n",
    "# Creating a Series\n",
    "data = {'A': 10, 'B': 20, 'C': 30}\n",
    "series = pd.Series(data)\n",
    "\n",
    "# Creating a DataFrame from a dictionary\n",
    "data = {'Name': ['pom', 'tom', 'som'],\n",
    "        'Age': [25, 30, 22]}\n",
    "df = pd.DataFrame(data)\n",
    "print(df)"
   ]
  },
  {
   "cell_type": "code",
   "execution_count": 13,
   "id": "0632b3fa-5c65-4702-9e6d-db55b903acad",
   "metadata": {
    "tags": []
   },
   "outputs": [
    {
     "name": "stdout",
     "output_type": "stream",
     "text": [
      "0    27\n",
      "1    31\n",
      "2    23\n",
      "Name: Age, dtype: int64\n",
      "  Name  Age\n",
      "1  tom   31\n",
      "2  som   23\n",
      "  Name  Age\n",
      "0  pom   27\n",
      "2  som   23\n"
     ]
    }
   ],
   "source": [
    "# Selecting columns\n",
    "ages = df['Age']\n",
    "\n",
    "# Slicing rows\n",
    "subset = df[1:3]\n",
    "\n",
    "# Filtering data\n",
    "young_people = df[df['Age']<30]\n",
    "\n",
    "print(ages)\n",
    "print(subset)\n",
    "print(young_people)"
   ]
  },
  {
   "cell_type": "code",
   "execution_count": 14,
   "id": "96514a64-5c94-42f8-8872-cc540c8f2751",
   "metadata": {
    "tags": []
   },
   "outputs": [
    {
     "name": "stdout",
     "output_type": "stream",
     "text": [
      "A    10\n",
      "B    25\n",
      "C    30\n",
      "dtype: int64\n",
      "  Name  Age\n",
      "0  pom   27\n",
      "1  tom   32\n",
      "2  som   24\n"
     ]
    }
   ],
   "source": [
    "# Changing values in a Series\n",
    "series['B'] = 25\n",
    "\n",
    "# Modifying DataFrame values\n",
    "df.loc[0, 'Age'] = 26\n",
    "df['Age'] = df['Age'] + 1\n",
    "\n",
    "print(series)\n",
    "print(df)"
   ]
  },
  {
   "cell_type": "code",
   "execution_count": 4,
   "id": "0e13eb6b-dc29-4dce-9e8e-e348441af9c9",
   "metadata": {
    "tags": []
   },
   "outputs": [
    {
     "name": "stdout",
     "output_type": "stream",
     "text": [
      "Merged DataFrame:\n",
      "   ID Name  Score\n",
      "0   2  tom     85\n",
      "1   3  som     90\n",
      "Grouped Data:\n",
      "Category\n",
      "A    60\n",
      "B    75\n",
      "Name: Value, dtype: int64\n"
     ]
    }
   ],
   "source": [
    "import pandas as pd\n",
    "data1 = {'ID': [1, 2, 3],\n",
    "         'Name': ['pom', 'tom', 'som']}\n",
    "df1 = pd.DataFrame(data1)\n",
    "\n",
    "data2 = {'ID': [2, 3, 4],\n",
    "         'Score': [85, 90, 78]}\n",
    "df2 = pd.DataFrame(data2)\n",
    "\n",
    "# Merge DataFrames on 'ID' column\n",
    "merged_df = pd.merge(df1, df2, on='ID')\n",
    "\n",
    "print(\"Merged DataFrame:\")\n",
    "print(merged_df)\n",
    "\n",
    "data = {'Category': ['A', 'B', 'A', 'B', 'A', 'B'],\n",
    "        'Value': [10, 15, 20, 25, 30, 35]}\n",
    "df = pd.DataFrame(data)\n",
    "\n",
    "# Grouping data\n",
    "grouped_data = df.groupby('Category')['Value'].sum()\n",
    "\n",
    "print(\"Grouped Data:\")\n",
    "print(grouped_data)\n",
    "\n"
   ]
  },
  {
   "cell_type": "code",
   "execution_count": 3,
   "id": "e626dfb3-a576-4a2a-a757-c553253db17c",
   "metadata": {},
   "outputs": [
    {
     "name": "stdout",
     "output_type": "stream",
     "text": [
      "Handling Missing Values:\n",
      "Original DataFrame:\n",
      "     A    B\n",
      "0  1.0  5.0\n",
      "1  2.0  NaN\n",
      "2  NaN  7.0\n",
      "3  4.0  8.0\n",
      "\n",
      "DataFrame after dropping rows with missing values:\n",
      "     A    B\n",
      "0  1.0  5.0\n",
      "3  4.0  8.0\n",
      "\n",
      "Handling Duplicates:\n",
      "Original DataFrame:\n",
      "   A  B\n",
      "0  1  5\n",
      "1  2  6\n",
      "2  2  6\n",
      "3  4  8\n",
      "\n",
      "Duplicate rows:\n",
      "0    False\n",
      "1    False\n",
      "2     True\n",
      "3    False\n",
      "dtype: bool\n",
      "\n",
      "DataFrame after removing duplicates:\n",
      "   A  B\n",
      "0  1  5\n",
      "1  2  6\n",
      "3  4  8\n"
     ]
    }
   ],
   "source": [
    "import pandas as pd\n",
    "import numpy as np\n",
    "\n",
    "# Handling Missing Values\n",
    "\n",
    "# Create a sample DataFrame with missing values\n",
    "data = {'A': [1, 2, np.nan, 4],\n",
    "        'B': [5, np.nan, 7, 8]}\n",
    "df = pd.DataFrame(data)\n",
    "\n",
    "# Drop rows with missing values\n",
    "df_dropped = df.dropna()\n",
    "\n",
    "# Handling Duplicates\n",
    "\n",
    "# Create a DataFrame with duplicate rows\n",
    "data_duplicates = {'A': [1, 2, 2, 4],\n",
    "                   'B': [5, 6, 6, 8]}\n",
    "df_duplicates = pd.DataFrame(data_duplicates)\n",
    "\n",
    "# Check for duplicates\n",
    "duplicates = df_duplicates.duplicated()\n",
    "\n",
    "# Remove duplicates\n",
    "df_no_duplicates = df_duplicates.drop_duplicates()\n",
    "\n",
    "# Print the results\n",
    "print(\"Handling Missing Values:\")\n",
    "print(\"Original DataFrame:\")\n",
    "print(df)\n",
    "print(\"\\nDataFrame after dropping rows with missing values:\")\n",
    "print(df_dropped)\n",
    "print(\"\\nHandling Duplicates:\")\n",
    "print(\"Original DataFrame:\")\n",
    "print(df_duplicates)\n",
    "print(\"\\nDuplicate rows:\")\n",
    "print(duplicates)\n",
    "print(\"\\nDataFrame after removing duplicates:\")\n",
    "print(df_no_duplicates)\n"
   ]
  },
  {
   "cell_type": "code",
   "execution_count": null,
   "id": "0c86726a-0056-4b14-8c2b-c76a13efcabb",
   "metadata": {},
   "outputs": [],
   "source": []
  },
  {
   "cell_type": "code",
   "execution_count": null,
   "id": "894bfa97-8c49-4982-9c06-7c3cf493c685",
   "metadata": {},
   "outputs": [],
   "source": []
  }
 ],
 "metadata": {
  "kernelspec": {
   "display_name": "Python 3 (ipykernel)",
   "language": "python",
   "name": "python3"
  },
  "language_info": {
   "codemirror_mode": {
    "name": "ipython",
    "version": 3
   },
   "file_extension": ".py",
   "mimetype": "text/x-python",
   "name": "python",
   "nbconvert_exporter": "python",
   "pygments_lexer": "ipython3",
   "version": "3.11.3"
  }
 },
 "nbformat": 4,
 "nbformat_minor": 5
}
